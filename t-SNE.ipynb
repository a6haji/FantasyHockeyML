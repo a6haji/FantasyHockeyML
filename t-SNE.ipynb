{
 "cells": [
  {
   "cell_type": "code",
   "execution_count": 12,
   "metadata": {
    "collapsed": false
   },
   "outputs": [],
   "source": [
    "from sklearn.manifold import TSNE\n",
    "import pandas\n",
    "import matplotlib.pyplot as plt\n",
    "from mpl_toolkits.mplot3d import Axes3D\n",
    "import numpy as np\n",
    "import sklearn\n",
    "import pandas as pd\n",
    "%matplotlib inline\n",
    "\n",
    "# import data from csv\n",
    "dataframe = pandas.read_csv('Scoring.csv',usecols = range(0,19), engine='python')\n",
    "X = dataframe.values\n",
    "\n",
    "# Initialize Dictionaries and Lists\n",
    "players2008 = {}\n",
    "players2009 = {}\n",
    "players2010 = {}\n",
    "players2011 = {}\n",
    "players_2008 = []\n",
    "players_2009 = []\n",
    "players_2010 = []\n",
    "players_2011 = []\n",
    "\n",
    "#Find players who have played in 2008-2011 seasons at least half of the season\n",
    "for i in X:\n",
    "    if (i[5] == 'C') and (i[4] == 'NHL') and (i[1] == 2008) and (i[6]>40 and i[6] != 'nan'):\n",
    "        if i[0] in players2008:\n",
    "            players2008[i[0]] += 1\n",
    "        else:\n",
    "            players2008[i[0]] = 1\n",
    "    if (i[5] == 'C') and (i[4] == 'NHL') and (i[1] == 2009) and (i[6]>40 and i[6] != 'nan'):\n",
    "        if i[0] in players2009:\n",
    "            players2009[i[0]] += 1\n",
    "        else:\n",
    "            players2009[i[0]] = 1\n",
    "    if (i[5] == 'C') and (i[4] == 'NHL') and (i[1] == 2010) and (i[6]>40 and i[6] != 'nan'):\n",
    "        if i[0] in players2010:\n",
    "            players2010[i[0]] += 1\n",
    "        else:\n",
    "            players2010[i[0]] = 1\n",
    "    if (i[5] == 'C') and (i[4] == 'NHL') and (i[1] == 2011) and (i[6]>40 and i[6] != 'nan'):\n",
    "        if i[0] in players2011:\n",
    "            players2011[i[0]] += 1\n",
    "        else:\n",
    "            players2011[i[0]] = 1\n",
    "\n",
    "\n",
    "# Remove players who have multiple team appearances in a season\n",
    "for i in players2008.keys():\n",
    "    if players2008[i] > 1:\n",
    "        del players2008[i]\n",
    "for i in players2009.keys():\n",
    "    if players2009[i] > 1:\n",
    "        del players2009[i]\n",
    "for i in players2010.keys():\n",
    "    if players2010[i] > 1:\n",
    "        del players2010[i]\n",
    "for i in players2011.keys():\n",
    "    if players2011[i] > 1:\n",
    "        del players2011[i]     \n",
    "\n",
    "#Add players to lists if they have played in all three seasons\n",
    "for i in X:\n",
    "    if ((i[0] in players2008) and (i[0] in players2009) and (i[0] in players2010) and (i[0] in players2011)) and (i[6]>41 and i[6] != 'nan'):\n",
    "        if (i[1] == 2008):\n",
    "            players_2008.append(i)\n",
    "        if (i[1] == 2009):\n",
    "            players_2009.append(i)\n",
    "        if (i[1] == 2010):\n",
    "            players_2010.append(i)\n",
    "        if (i[1] == 2011):\n",
    "            players_2011.append(i)\n"
   ]
  },
  {
   "cell_type": "code",
   "execution_count": 13,
   "metadata": {
    "collapsed": false
   },
   "outputs": [],
   "source": [
    "X_2008 = []\n",
    "X_2009 = []\n",
    "X_2010 = []\n",
    "X_2011 = []\n",
    "\n",
    "for i in players_2008:\n",
    "    X_2008.append(i[6:19])\n",
    "X_2008 = np.delete(X_2008,[3,4,8,9,10,11],1)\n",
    "\n",
    "for i in players_2009:\n",
    "    X_2009.append(i[6:19])\n",
    "X_2009 = np.delete(X_2009,[3,4,8,9,10,11],1)\n",
    "\n",
    "for i in players_2010:\n",
    "    X_2010.append(i[6:19])\n",
    "X_2010 = np.delete(X_2010,[3,4,8,9,10,11],1)\n",
    "\n",
    "for i in players_2011:\n",
    "    X_2011.append(i[6:19])\n",
    "X_2011 = np.delete(X_2011,[3,4,8,9,10,11],1)\n",
    "\n",
    "# Calculate target data from 2009\n",
    "Y_2009 = []\n",
    "\n",
    "for players in players_2009:\n",
    "    Y_2009.append((players[7]*6)+(players[8]*4)+(players[18])+(players[12]+players[13]))\n",
    "\n",
    "# Calculate target data from 2010\n",
    "Y_2010 = []\n",
    "\n",
    "for players in players_2010:\n",
    "    Y_2010.append((players[7]*6)+(players[8]*4)+(players[18])+(players[12]+players[13]))\n",
    "\n",
    "Stats = []\n",
    "for i in X_2008:\n",
    "    Stats.append(i)\n",
    "for i in X_2009:\n",
    "    Stats.append(i)\n",
    "\n",
    "Y = Y_2009 + Y_2010\n",
    "Stats = np.array(Stats)\n",
    "\n",
    "# print Stats[0]\n",
    "# print Stats[1]\n",
    "# print Stats[:, 2]"
   ]
  },
  {
   "cell_type": "code",
   "execution_count": 15,
   "metadata": {
    "collapsed": false
   },
   "outputs": [
    {
     "name": "stdout",
     "output_type": "stream",
     "text": [
      "148\n"
     ]
    },
    {
     "data": {
      "image/png": "[encoded data removed]",
      "text/plain": [
       "<matplotlib.figure.Figure at 0x1144620d0>"
      ]
     },
     "metadata": {},
     "output_type": "display_data"
    },
    {
     "data": {
      "text/plain": [
       "<matplotlib.figure.Figure at 0x10a19f5d0>"
      ]
     },
     "metadata": {},
     "output_type": "display_data"
    }
   ],
   "source": [
    "tsne = TSNE(n_components=2, learning_rate=40)\n",
    "X_tsne = tsne.fit_transform(Stats)\n",
    "plt.scatter(X_tsne[:, 0], X_tsne[:, 1], c=Y)\n",
    "plt.figure(figsize=(175,100))\n",
    "# fig = plt.figure()\n",
    "# ax = fig.add_subplot(111, projection='3d')\n",
    "\n",
    "# ax.scatter\n",
    "# print X_tsne\n",
    "# plt.scatter(X_tsne[:, 0], X_tsne[:, 1], c=Y, cmap=plt.cm.cool)\n",
    "# print Y\n",
    "plt.show()"
   ]
  },
  {
   "cell_type": "code",
   "execution_count": null,
   "metadata": {
    "collapsed": true
   },
   "outputs": [],
   "source": []
  }
 ],
 "metadata": {
  "kernelspec": {
   "display_name": "Python 2",
   "language": "python",
   "name": "python2"
  },
  "language_info": {
   "codemirror_mode": {
    "name": "ipython",
    "version": 2
   },
   "file_extension": ".py",
   "mimetype": "text/x-python",
   "name": "python",
   "nbconvert_exporter": "python",
   "pygments_lexer": "ipython2",
   "version": "2.7.13"
  }
 },
 "nbformat": 4,
 "nbformat_minor": 2
}

{
 "cells": [
  {
   "cell_type": "code",
   "execution_count": 527,
   "metadata": {
    "collapsed": false,
    "scrolled": false
   },
   "outputs": [],
   "source": [
    "import numpy as np\n",
    "import pandas\n",
    "import sklearn\n",
    "\n",
    "# import data from csv\n",
    "dataframe = pandas.read_csv('Scoring.csv',usecols = range(0,19), engine='python')\n",
    "X = dataframe.values\n",
    "\n",
    "# Initialize Dictionaries and Lists\n",
    "players2008 = {}\n",
    "players2009 = {}\n",
    "players2010 = {}\n",
    "players2011 = {}\n",
    "players_2008 = []\n",
    "players_2009 = []\n",
    "players_2010 = []\n",
    "players_2011 = []\n",
    "\n",
    "#Find players who have played in 2008-2011 seasons at least half of the season\n",
    "for i in X:\n",
    "    if (i[5] == 'C') and (i[4] == 'NHL') and (i[1] == 2008) and (i[6]>40 and i[6] != 'nan'):\n",
    "        if i[0] in players2008:\n",
    "            players2008[i[0]] += 1\n",
    "        else:\n",
    "            players2008[i[0]] = 1\n",
    "    if (i[5] == 'C') and (i[4] == 'NHL') and (i[1] == 2009) and (i[6]>40 and i[6] != 'nan'):\n",
    "        if i[0] in players2009:\n",
    "            players2009[i[0]] += 1\n",
    "        else:\n",
    "            players2009[i[0]] = 1\n",
    "    if (i[5] == 'C') and (i[4] == 'NHL') and (i[1] == 2010) and (i[6]>40 and i[6] != 'nan'):\n",
    "        if i[0] in players2010:\n",
    "            players2010[i[0]] += 1\n",
    "        else:\n",
    "            players2010[i[0]] = 1\n",
    "    if (i[5] == 'C') and (i[4] == 'NHL') and (i[1] == 2011) and (i[6]>40 and i[6] != 'nan'):\n",
    "        if i[0] in players2011:\n",
    "            players2011[i[0]] += 1\n",
    "        else:\n",
    "            players2011[i[0]] = 1\n",
    "\n",
    "\n",
    "# Remove players who have multiple team appearances in a season\n",
    "for i in players2008.keys():\n",
    "    if players2008[i] > 1:\n",
    "        del players2008[i]\n",
    "for i in players2009.keys():\n",
    "    if players2009[i] > 1:\n",
    "        del players2009[i]\n",
    "for i in players2010.keys():\n",
    "    if players2010[i] > 1:\n",
    "        del players2010[i]\n",
    "for i in players2011.keys():\n",
    "    if players2011[i] > 1:\n",
    "        del players2011[i]     \n",
    "\n",
    "#Add players to lists if they have played in all three seasons\n",
    "for i in X:\n",
    "    if ((i[0] in players2008) and (i[0] in players2009) and (i[0] in players2010) and (i[0] in players2011)) and (i[6]>41 and i[6] != 'nan'):\n",
    "        if (i[1] == 2008):\n",
    "            players_2008.append(i)\n",
    "        if (i[1] == 2009):\n",
    "            players_2009.append(i)\n",
    "        if (i[1] == 2010):\n",
    "            players_2010.append(i)\n",
    "        if (i[1] == 2011):\n",
    "            players_2011.append(i)\n"
   ]
  },
  {
   "cell_type": "code",
   "execution_count": 550,
   "metadata": {
    "collapsed": false
   },
   "outputs": [
    {
     "name": "stdout",
     "output_type": "stream",
     "text": [
      "['horcosh01' 2010 1 'EDM' 'NHL' 'C' 47.0 9.0 18.0 27.0 46.0 -1.0 5.0 5.0\n",
      " 0.0 1.0 1.0 nan 78.0]\n"
     ]
    }
   ],
   "source": [
    "print players_2010[25]"
   ]
  },
  {
   "cell_type": "code",
   "execution_count": 539,
   "metadata": {
    "collapsed": false
   },
   "outputs": [
    {
     "name": "stdout",
     "output_type": "stream",
     "text": [
      "2.5635615061\n",
      "4.01766352255\n",
      "5.38634711118\n",
      "6.54010693611\n",
      "8.21082670993\n"
     ]
    }
   ],
   "source": [
    "X_2008 = []\n",
    "X_2009 = []\n",
    "X_2010 = []\n",
    "X_2011 = []\n",
    "\n",
    "for i in players_2008:\n",
    "    X_2008.append(i[6:19])\n",
    "X_2008 = np.delete(X_2008,[3,4,5,8,9,10,11],1)\n",
    "\n",
    "for i in players_2009:\n",
    "    X_2009.append(i[6:19])\n",
    "X_2009 = np.delete(X_2009,[3,4,5,8,9,10,11],1)\n",
    "\n",
    "for i in players_2010:\n",
    "    X_2010.append(i[6:19])\n",
    "X_2010 = np.delete(X_2010,[3,4,5,8,9,10,11],1)\n",
    "\n",
    "for i in players_2011:\n",
    "    X_2011.append(i[6:19])\n",
    "X_2011 = np.delete(X_2011,[3,4,5,8,9,10,11],1)\n",
    "\n",
    "# Calculate target data from 2009\n",
    "Y_2009 = []\n",
    "\n",
    "for players in players_2009:\n",
    "    Y_2009.append((players[7]*6/players[6])+(players[8]*4/players[6])+(players[18]/players[6])+((players[12]+players[13])/players[6]))\n",
    "\n",
    "# Calculate target data from 2010\n",
    "Y_2010 = []\n",
    "\n",
    "for players in players_2010:\n",
    "    Y_2010.append((players[7]*6/players[6])+(players[8]*4/players[6])+(players[18]/players[6])+((players[12]+players[13])/players[6]))\n",
    "\n",
    "# Calculate target data from 2011\n",
    "Y_2011 = []\n",
    "\n",
    "for players in players_2011:\n",
    "    Y_2011.append((players[7]*6/players[6])+(players[8]*4/players[6])+(players[18]/players[6])+((players[12]+players[13])/players[6]))\n",
    "\n",
    "# Calculate fantasy points per game for each category (Goals, Assists, Power Play Goals, Power Play Assists, SOG)\n",
    "Stats = []\n",
    "for i in X_2008:\n",
    "    i[1] = i[1]*6/i[0]\n",
    "    i[2] = i[2]*4/i[0]\n",
    "    i[3] = i[3]/i[0]\n",
    "    i[4] = i[4]/i[0]\n",
    "    i[5] = i[5]/i[0]\n",
    "    Stats.append(i)\n",
    "for i in X_2009:\n",
    "    i[1] = i[1]*6/i[0]\n",
    "    i[2] = i[2]*4/i[0]\n",
    "    i[3] = i[3]/i[0]\n",
    "    i[4] = i[4]/i[0]\n",
    "    i[5] = i[5]/i[0]\n",
    "    Stats.append(i)\n",
    "Stats = np.delete(Stats,0,1)\n",
    "\n",
    "Y = Y_2009 + Y_2010\n",
    "Stats = np.array(Stats)\n",
    "\n",
    "Sorted_Y = sorted(Y)\n",
    "\n",
    "#Performance Thresholds\n",
    "low = Sorted_Y[28]\n",
    "medium_low = Sorted_Y[58]\n",
    "medium = Sorted_Y[88]\n",
    "medium_high = Sorted_Y[118]\n",
    "high = Sorted_Y[147]\n",
    "\n",
    "cluster_train_Y = []\n",
    "for i in Y:\n",
    "    if i <= low:\n",
    "        level = 1\n",
    "        cluster_train_Y.append(level)\n",
    "    elif (i>low) and (i<=medium_low):\n",
    "        level = 2\n",
    "        cluster_train_Y.append(level)\n",
    "    elif (i>medium_low) and (i<=medium):\n",
    "        level = 3\n",
    "        cluster_train_Y.append(level)\n",
    "    elif (i>medium) and (i<=medium_high):\n",
    "        level = 4\n",
    "        cluster_train_Y.append(level)\n",
    "    elif (i>medium_high):\n",
    "        level = 5\n",
    "        cluster_train_Y.append(level)\n",
    "    else:\n",
    "        print \"not working\"\n",
    "\n",
    "## Find average score of each cluster\n",
    "\n",
    "low_avg = sum(Sorted_Y[0:29])/29\n",
    "medium_low_avg = sum(Sorted_Y[29:59])/30\n",
    "medium_avg = sum(Sorted_Y[59:89])/30\n",
    "medium_high_avg = sum(Sorted_Y[89:119])/30\n",
    "high_avg = sum(Sorted_Y[119:148])/29\n",
    "\n",
    "print low_avg\n",
    "print medium_low_avg\n",
    "print medium_avg\n",
    "print medium_high_avg\n",
    "print high_avg\n",
    "\n",
    "\n",
    "# normalize data (X)\n",
    "Stats = sklearn.preprocessing.normalize(Stats, norm='max', axis=0)\n",
    "# print Stats[0]\n",
    "# print Stats[1]\n",
    "# print Stats[:, 2]"
   ]
  },
  {
   "cell_type": "code",
   "execution_count": 532,
   "metadata": {
    "collapsed": false
   },
   "outputs": [
    {
     "name": "stdout",
     "output_type": "stream",
     "text": [
      "heres a 5\n",
      "heres a 5\n",
      "heres a 5\n",
      "heres a 5\n",
      "heres a 5\n",
      "heres a 5\n",
      "heres a 5\n",
      "heres a 5\n",
      "heres a 5\n"
     ]
    }
   ],
   "source": [
    "## Set up Testing Data\n",
    "\n",
    "Stats_test = []\n",
    "for i in X_2010:\n",
    "    i[1] = i[1]*6/i[0]\n",
    "    i[2] = i[2]*4/i[0]\n",
    "    i[3] = i[3]/i[0]\n",
    "    i[4] = i[4]/i[0]\n",
    "    i[5] = i[5]/i[0]\n",
    "    Stats_test.append(i)\n",
    "Stats_test = np.delete(Stats_test,0,1)\n",
    "Stats_test = np.array(Stats_test)\n",
    "Stats_test = sklearn.preprocessing.normalize(Stats_test, norm='max', axis=0)\n",
    "    \n",
    "cluster_test_Y = []\n",
    "for i in Y_2011:\n",
    "    if i <= low:\n",
    "        level = 1\n",
    "        cluster_test_Y.append(level)\n",
    "    elif (i>low) and (i<=medium_low):\n",
    "        level = 2\n",
    "        cluster_test_Y.append(level)\n",
    "    elif (i>medium_low) and (i<=medium):\n",
    "        level = 3\n",
    "        cluster_test_Y.append(level)\n",
    "    elif (i>medium) and (i<=medium_high):\n",
    "        level = 4\n",
    "        cluster_test_Y.append(level)\n",
    "    elif (i>medium_high):\n",
    "        level = 5\n",
    "        cluster_test_Y.append(level)\n",
    "    else:\n",
    "        print \"not working\" \n"
   ]
  },
  {
   "cell_type": "code",
   "execution_count": 533,
   "metadata": {
    "collapsed": true
   },
   "outputs": [],
   "source": [
    "# Method to calculate the error\n",
    "def calError(predict, actual):\n",
    "    error = []\n",
    "    for i in xrange(len(predict)):\n",
    "        error.append(abs(predict[i] - actual[i])/actual[i])\n",
    "    \n",
    "    total = 0.0\n",
    "    for i in error:\n",
    "        total += i\n",
    "    total = total/len(error)\n",
    "    return total\n",
    "        "
   ]
  },
  {
   "cell_type": "code",
   "execution_count": 534,
   "metadata": {
    "collapsed": false,
    "scrolled": true
   },
   "outputs": [
    {
     "name": "stdout",
     "output_type": "stream",
     "text": [
      "[5 5 2 2 3 3 1 1 1 5 3 5 2 1 2 1 2 3 2 5 1 3 1 3 1 3 3 4 1 2 3 5 4 4 4 4 5\n",
      " 2 1 5 1 3 1 3 3 3 1 4 3 1 1 4 5 5 1 4 5 5 5 2 3 3 5 1 2 3 1 1 5 4 3 2 4 1\n",
      " 4 5 2 3 3 1 1 1 1 5 3 4 3 2 3 1 3 3 1 5 1 2 1 2 1 2 3 3 1 1 5 5 3 5 3 3 5\n",
      " 2 2 5 1 1 1 2 3 3 1 4 4 1 1 4 5 5 1 5 4 5 5 2 3 5 4 1 3 4 3 1 4 4 3 3 3 1]\n",
      "[2 4 1 1 3 3 1 1 1 4 3 5 3 2 3 1 3 3 1 5 2 3 1 1 3 5 3 3 1 3 5 4 3 4 3 2 5\n",
      " 2 1 5 1 1 1 2 5 1 1 5 3 1 1 3 5 3 1 4 5 5 5 5 1 5 4 1 3 2 1 1 4 4 3 2 3 1]\n",
      "0.0405405405405\n",
      "0.0675675675676\n"
     ]
    }
   ],
   "source": [
    "# SVM\n",
    "from sklearn.svm import SVC\n",
    "\n",
    "model_SVM = SVC()\n",
    "model_SVM.fit(Stats,cluster_train_Y)\n",
    "\n",
    "predict_train_Y = model_SVM.predict(Stats)\n",
    "predict_test_Y = model_SVM.predict(Stats_test)\n",
    "\n",
    "print predict_train_Y\n",
    "print predict_test_Y\n",
    "\n",
    "print calError(predict_train_Y,cluster_train_Y) # Train Error\n",
    "print calError(predict_test_Y,cluster_test_Y)  # Test Error"
   ]
  },
  {
   "cell_type": "code",
   "execution_count": 526,
   "metadata": {
    "collapsed": false
   },
   "outputs": [
    {
     "name": "stdout",
     "output_type": "stream",
     "text": [
      "15\n",
      "14\n",
      "7\n",
      "2\n",
      "2\n",
      "2\n",
      "Total Errors:\n",
      "8\n",
      "6\n"
     ]
    },
    {
     "data": {
      "image/png": "[encoded data removed]",
      "text/plain": [
       "<matplotlib.figure.Figure at 0x110d9d890>"
      ]
     },
     "metadata": {},
     "output_type": "display_data"
    }
   ],
   "source": [
    "## K-Fold Validation\n",
    "import math\n",
    "import matplotlib.pyplot as plt\n",
    "from sklearn.svm import SVC\n",
    "\n",
    "Training_Error = []\n",
    "Testing_Error = []\n",
    "\n",
    "# Stats = Stats[0:10]\n",
    "# cluster_train_Y = cluster_train_Y[0:10]\n",
    "\n",
    "## 1/3 of 148 players\n",
    "test_size = 48\n",
    "train_size = 50\n",
    "\n",
    "train_X_1 = Stats[0:train_size]\n",
    "train_X_2 = Stats[train_size:2*train_size]\n",
    "test_X = Stats[len(Stats)-test_size:len(Stats)]\n",
    "\n",
    "train_Y_1 = cluster_train_Y[0:train_size]\n",
    "train_Y_2 = cluster_train_Y[train_size:2*train_size]\n",
    "test_Y = cluster_train_Y[len(cluster_train_Y)-test_size:len(cluster_train_Y)]\n",
    "\n",
    "training_X = []\n",
    "for i in train_X_1:\n",
    "    training_X.append(i)\n",
    "for i in train_X_2:\n",
    "    training_X.append(i)\n",
    "    \n",
    "training_Y = []\n",
    "for i in train_Y_1:\n",
    "    training_Y.append(i)\n",
    "for i in train_Y_2:\n",
    "    training_Y.append(i)\n",
    "\n",
    "model_SVM = SVC()\n",
    "model_SVM.fit(training_X,training_Y)\n",
    "\n",
    "predict_train_Y = model_SVM.predict(training_X)\n",
    "predict_test_Y = model_SVM.predict(test_X)\n",
    "pred_train = predict_train_Y\n",
    "pred_test = predict_test_Y\n",
    "\n",
    "# Training error\n",
    "err_train = (abs(pred_train - training_Y)/training_Y) * 100\n",
    "\n",
    "ttl_train = sum(err_train)/len(err_train)\n",
    "\n",
    "Training_Error.append(ttl_train)\n",
    "\n",
    "print ttl_train\n",
    "\n",
    "# Testing error\n",
    "err_test = (abs(pred_test - test_Y)/test_Y) * 100\n",
    "\n",
    "ttl_test = sum(err_test)/len(err_test)\n",
    "\n",
    "Testing_Error.append(ttl_test)\n",
    "\n",
    "print ttl_test\n",
    "\n",
    "\n",
    "######################### 2nd fold\n",
    "train_X_1 = train_X_2\n",
    "train_X_2 = test_X\n",
    "test_X = train_X_1\n",
    "\n",
    "train_Y_1 = train_Y_2\n",
    "train_Y_2 = test_Y\n",
    "test_Y = train_Y_1\n",
    "\n",
    "training_X = []\n",
    "for i in train_X_1:\n",
    "    training_X.append(i)\n",
    "for i in train_X_2:\n",
    "    training_X.append(i)\n",
    "\n",
    "training_Y = []\n",
    "for i in train_Y_1:\n",
    "    training_Y.append(i)\n",
    "for i in train_Y_2:\n",
    "    training_Y.append(i)\n",
    "\n",
    "model_SVM = SVC()\n",
    "model_SVM.fit(training_X,training_Y)\n",
    "\n",
    "predict_train_Y = model_SVM.predict(training_X)\n",
    "predict_test_Y = model_SVM.predict(test_X)\n",
    "pred_train = predict_train_Y\n",
    "pred_test = predict_test_Y\n",
    "\n",
    "# Training error\n",
    "err_train = (abs(pred_train - training_Y)/training_Y) * 100\n",
    "\n",
    "ttl_train = sum(err_train)/len(err_train)\n",
    "\n",
    "Training_Error.append(ttl_train)\n",
    "print ttl_train\n",
    "\n",
    "# Testing error\n",
    "err_test = (abs(pred_test - test_Y)/test_Y) * 100\n",
    "\n",
    "ttl_test = sum(err_test)/len(err_test)\n",
    "\n",
    "Testing_Error.append(ttl_test)\n",
    "print ttl_test\n",
    "\n",
    "######################### 3rd fold\n",
    "train_X_1 = test_X\n",
    "train_X_2 = train_X_1\n",
    "test_X = train_X_2\n",
    "\n",
    "train_Y_1 = test_Y\n",
    "train_Y_2 = train_Y_1\n",
    "test_Y = train_Y_2\n",
    "\n",
    "training_X = []\n",
    "for i in train_X_1:\n",
    "    training_X.append(i)\n",
    "for i in train_X_2:\n",
    "    training_X.append(i)\n",
    "\n",
    "training_Y = []\n",
    "for i in train_Y_1:\n",
    "    training_Y.append(i)\n",
    "for i in train_Y_2:\n",
    "    training_Y.append(i)\n",
    "\n",
    "\n",
    "model_SVM = SVC()\n",
    "model_SVM.fit(training_X,training_Y)\n",
    "\n",
    "predict_train_Y = model_SVM.predict(training_X)\n",
    "predict_test_Y = model_SVM.predict(test_X)\n",
    "pred_train = predict_train_Y\n",
    "pred_test = predict_test_Y\n",
    "\n",
    "# Training error\n",
    "err_train = (abs(pred_train - training_Y)/training_Y) * 100\n",
    "\n",
    "ttl_train = sum(err_train)/len(err_train)\n",
    "\n",
    "Training_Error.append(ttl_train)\n",
    "print ttl_train\n",
    "\n",
    "# Testing error\n",
    "err_test = (abs(pred_test - test_Y)/test_Y) * 100\n",
    "\n",
    "ttl_test = sum(err_test)/len(err_test)\n",
    "\n",
    "Testing_Error.append(ttl_test)\n",
    "print ttl_test\n",
    "\n",
    "print \"Total Errors:\"\n",
    "print sum(Training_Error)/len(Training_Error)\n",
    "print sum(Testing_Error)/len(Testing_Error)\n",
    "\n",
    "\n",
    "## Plot Error against Samples (KFold was repeated for different sizes of X_2008)\n",
    "\n",
    "samples = [10,30,50,70,90,110,130,150]\n",
    "kfold_training_errors = [0, 21,14,12,14,11,11,8]\n",
    "kfold_testing_errors = [16,23,15,19,14,14,14,6]\n",
    "\n",
    "fig = plt.figure()\n",
    "ax1 = fig.add_subplot(111)\n",
    "ax1.scatter(samples, kfold_training_errors, s=4, c='b', marker=\"*\", label='Training')\n",
    "ax1.scatter(samples, kfold_testing_errors, s=4, c='r', marker=\"*\", label='Testing')\n",
    "plt.legend(loc='upper left');\n",
    "plt.xlabel('Number of Samples')\n",
    "plt.ylabel('Percentage Error')\n",
    "plt.show()"
   ]
  },
  {
   "cell_type": "code",
   "execution_count": 500,
   "metadata": {
    "collapsed": false
   },
   "outputs": [
    {
     "name": "stdout",
     "output_type": "stream",
     "text": [
      "0.203615210314\n",
      "0.254286216578\n"
     ]
    }
   ],
   "source": [
    "## Convert back to fantasy points\n",
    "\n",
    "points_predict_train_Y = []\n",
    "for i in predict_train_Y:\n",
    "    if i == 1:\n",
    "        points = low_avg\n",
    "        points_predict_train_Y.append(points)\n",
    "    elif i == 2:\n",
    "        points = medium_low_avg\n",
    "        points_predict_train_Y.append(points)\n",
    "    elif i == 3:\n",
    "        points = medium_avg\n",
    "        points_predict_train_Y.append(points)\n",
    "    elif i == 4:\n",
    "        points = medium_high_avg\n",
    "        points_predict_train_Y.append(points)\n",
    "    elif i == 5:\n",
    "        points = high_avg\n",
    "        points_predict_train_Y.append(points)\n",
    "    else:\n",
    "        print \"not working\"\n",
    "\n",
    "points_predict_test_Y = []\n",
    "for i in predict_test_Y:\n",
    "    if i == 1:\n",
    "        points = low_avg\n",
    "        points_predict_test_Y.append(points)\n",
    "    elif i == 2:\n",
    "        points = medium_low_avg\n",
    "        points_predict_test_Y.append(points)\n",
    "    elif i == 3:\n",
    "        points = medium_avg\n",
    "        points_predict_test_Y.append(points)\n",
    "    elif i == 4:\n",
    "        points = medium_high_avg\n",
    "        points_predict_test_Y.append(points)\n",
    "    elif i == 5:\n",
    "        points = high_avg\n",
    "        points_predict_test_Y.append(points)\n",
    "    else:\n",
    "        print \"not working\"\n",
    "        \n",
    "print calError(points_predict_train_Y,Y) # Train Error\n",
    "print calError(points_predict_test_Y,Y_2011)  # Test Error"
   ]
  },
  {
   "cell_type": "code",
   "execution_count": 501,
   "metadata": {
    "collapsed": false
   },
   "outputs": [
    {
     "data": {
      "image/png": "[encoded data removed]",
      "text/plain": [
       "<matplotlib.figure.Figure at 0x110887e50>"
      ]
     },
     "metadata": {},
     "output_type": "display_data"
    }
   ],
   "source": [
    "import matplotlib.pyplot as plt\n",
    "\n",
    "x_axis = range(1,len(points_predict_test_Y)+1)\n",
    "fig = plt.figure()\n",
    "ax1 = fig.add_subplot(111)\n",
    "ax1.scatter(x_axis, points_predict_test_Y, s=1, c='b', marker=\"o\", label='Predicted')\n",
    "ax1.scatter(x_axis, Y_2011, s=1, c='r', marker=\"o\", label='Actual')\n",
    "plt.legend(loc='upper left');\n",
    "plt.xlabel('Player')\n",
    "plt.ylabel('Fantasy Points per Game')\n",
    "plt.show()"
   ]
  },
  {
   "cell_type": "code",
   "execution_count": 505,
   "metadata": {
    "collapsed": false,
    "scrolled": true
   },
   "outputs": [
    {
     "data": {
      "image/png": "[encoded data removed]",
      "text/plain": [
       "<matplotlib.figure.Figure at 0x116a40ad0>"
      ]
     },
     "metadata": {},
     "output_type": "display_data"
    }
   ],
   "source": [
    "error = []\n",
    "for i in xrange(len(points_predict_test_Y)):\n",
    "    error.append(abs((points_predict_test_Y[i] - Y_2011[i])/Y_2011[i])*100)\n",
    "    \n",
    "plt.plot(x_axis, error)\n",
    "plt.xlabel('Player')\n",
    "plt.ylabel('Percentage Error')\n",
    "plt.title('Fantasy Points Error per Player')\n",
    "plt.show()"
   ]
  },
  {
   "cell_type": "code",
   "execution_count": 504,
   "metadata": {
    "collapsed": false
   },
   "outputs": [
    {
     "data": {
      "image/png": "[encoded data removed]",
      "text/plain": [
       "<matplotlib.figure.Figure at 0x110de8110>"
      ]
     },
     "metadata": {},
     "output_type": "display_data"
    }
   ],
   "source": [
    "error = []\n",
    "for i in xrange(len(predict_test_Y)):\n",
    "    error.append(abs((predict_test_Y[i] - cluster_test_Y[i])/cluster_test_Y[i])*100)\n",
    "    \n",
    "plt.plot(x_axis, error)\n",
    "plt.xlabel('Player')\n",
    "plt.ylabel('Percentage Error')\n",
    "plt.title('Classification Error per Player')\n",
    "plt.show()"
   ]
  },
  {
   "cell_type": "code",
   "execution_count": null,
   "metadata": {
    "collapsed": true
   },
   "outputs": [],
   "source": []
  }
 ],
 "metadata": {
  "kernelspec": {
   "display_name": "Python 2",
   "language": "python",
   "name": "python2"
  },
  "language_info": {
   "codemirror_mode": {
    "name": "ipython",
    "version": 2
   },
   "file_extension": ".py",
   "mimetype": "text/x-python",
   "name": "python",
   "nbconvert_exporter": "python",
   "pygments_lexer": "ipython2",
   "version": "2.7.13"
  }
 },
 "nbformat": 4,
 "nbformat_minor": 2
}
